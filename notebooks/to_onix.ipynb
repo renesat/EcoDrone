{
 "cells": [
  {
   "cell_type": "code",
   "execution_count": 1,
   "id": "c716a48a",
   "metadata": {},
   "outputs": [],
   "source": [
    "import sys\n",
    "sys.path.insert(0, \"../\")"
   ]
  },
  {
   "cell_type": "code",
   "execution_count": 2,
   "id": "30fefc12",
   "metadata": {},
   "outputs": [],
   "source": [
    "from src.model.deeplabv3 import TrashDetector\n",
    "from src.data.dataset import TrashDataset\n",
    "from torch.utils.data import DataLoader\n",
    "from pytorch_lightning.loggers import TensorBoardLogger\n",
    "from pytorch_lightning.callbacks import ModelCheckpoint\n",
    "from pathlib import Path\n",
    "import torch\n",
    "from torchvision import transforms\n",
    "import matplotlib.pyplot as plt\n",
    "import torchvision.transforms.functional as F\n",
    "from PIL import Image\n",
    "from torchvision.utils import draw_segmentation_masks"
   ]
  },
  {
   "cell_type": "code",
   "execution_count": 3,
   "id": "ffdbee4f",
   "metadata": {},
   "outputs": [],
   "source": [
    "path = Path('/home/renesat/0. PARA/1. Projects/Ecodrone/NN/logs/DeepLabV3_3/version_404/checkpoints/deeplabv3-epoch=22-val_loss=0.00e+00.ckpt')\n",
    "\n",
    "model = TrashDetector(pretrained=False)\n",
    "model = model.load_from_checkpoint(path)\n",
    "model = model.eval()"
   ]
  },
  {
   "cell_type": "code",
   "execution_count": 5,
   "id": "1c2f6ff9",
   "metadata": {},
   "outputs": [],
   "source": [
    "torch.onnx.export(model,                     # model being run\n",
    "                  ##since model is in the cuda mode, input also need to be\n",
    "                  torch.randn(1,3,512,512),              # model input (or a tuple for multiple inputs)\n",
    "                  \"model_troch_export.onnx\", # where to save the model (can be a file or file-like object)\n",
    "                  export_params=True,        # store the trained parameter weights inside the model file\n",
    "                  opset_version=11,          # the ONNX version to export the model to\n",
    "                  #do_constant_folding=True,  # whether to execute constant folding for optimization\n",
    "                  input_names = ['input'],   # the model's input names\n",
    "                  output_names = ['output'], # the model's output names\n",
    "                 )"
   ]
  }
 ],
 "metadata": {
  "@webio": {
   "lastCommId": null,
   "lastKernelId": null
  },
  "kernelspec": {
   "display_name": "Python 3 (ipykernel)",
   "language": "python",
   "name": "python3"
  },
  "language_info": {
   "codemirror_mode": {
    "name": "ipython",
    "version": 3
   },
   "file_extension": ".py",
   "mimetype": "text/x-python",
   "name": "python",
   "nbconvert_exporter": "python",
   "pygments_lexer": "ipython3",
   "version": "3.9.6"
  }
 },
 "nbformat": 4,
 "nbformat_minor": 5
}
